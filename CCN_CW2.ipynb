{
 "cells": [
  {
   "cell_type": "code",
   "execution_count": null,
   "id": "30c981c5",
   "metadata": {
    "ExecuteTime": {
     "end_time": "2022-03-20T14:38:11.011040Z",
     "start_time": "2022-03-20T14:38:11.002223Z"
    }
   },
   "outputs": [],
   "source": [
    "# Import libraries and configure matplotlib\n",
    "\n",
    "import numpy as np\n",
    "import pandas as pd\n",
    "import random\n",
    "import os\n",
    "from scipy import optimize\n",
    "import scipy\n",
    "import matplotlib.pyplot as plt\n",
    "import itertools\n",
    "\n",
    "from sklearn.metrics import confusion_matrix\n",
    "\n",
    "import seaborn as sns\n",
    "sns.set()\n",
    "\n",
    "\n",
    "plt.rc('font', family = 'serif')\n",
    "plt.rcParams['axes.labelsize'] = 20\n",
    "plt.rcParams['xtick.labelsize']=20\n",
    "plt.rcParams['ytick.labelsize']=20\n",
    "plt.rcParams['axes.titlesize'] =20 \n",
    "\n",
    "import warnings\n",
    "warnings.filterwarnings(\"ignore\")"
   ]
  },
  {
   "cell_type": "code",
   "execution_count": null,
   "id": "923ce30a",
   "metadata": {
    "ExecuteTime": {
     "end_time": "2022-03-20T12:14:53.368957Z",
     "start_time": "2022-03-20T12:14:53.342197Z"
    }
   },
   "outputs": [],
   "source": [
    "# Load data set\n",
    "\n",
    "path = \"/Users/josehernandez/Documents/The University of Edinburgh/Academics/SEM2/CCN/Assignment 2\"\n",
    "\n",
    "files = [\"inst_choices.csv\",\"inst_outcomes.csv\",\"stai_scores.csv\"]\n",
    "\n",
    "trials = [\"Trial \" + str(i) for i in range(160)]\n",
    "choices = pd.read_csv(os.path.join(path,files[0]),names = trials)\n",
    "outcomes = pd.read_csv(os.path.join(path,files[1]),names = trials)\n",
    "stai = pd.read_csv(os.path.join(path,files[2]),names = [\"Scores\"])"
   ]
  },
  {
   "cell_type": "markdown",
   "id": "d44549a3",
   "metadata": {
    "ExecuteTime": {
     "end_time": "2022-03-12T13:14:33.378869Z",
     "start_time": "2022-03-12T13:14:33.371399Z"
    }
   },
   "source": [
    "## Task A"
   ]
  },
  {
   "cell_type": "code",
   "execution_count": null,
   "id": "5f90af86",
   "metadata": {
    "ExecuteTime": {
     "end_time": "2022-03-20T12:14:56.437713Z",
     "start_time": "2022-03-20T12:14:56.431629Z"
    }
   },
   "outputs": [],
   "source": [
    "print(\"STAI-Y2 mean: \",stai[\"Scores\"].mean())\n",
    "print(\"STAI-Y2 standard deviation: \",round(stai[\"Scores\"].std(),2))\n",
    "print(\"STAI-Y2 median: \",stai[\"Scores\"].median())"
   ]
  },
  {
   "cell_type": "code",
   "execution_count": null,
   "id": "406caef3",
   "metadata": {
    "ExecuteTime": {
     "end_time": "2022-03-16T11:23:48.373920Z",
     "start_time": "2022-03-16T11:23:48.370841Z"
    }
   },
   "outputs": [],
   "source": [
    "cutoff = 43\n",
    "print(\"Number of participants considered healthy controls: \",len(stai[stai['Scores'] <= cutoff]))"
   ]
  },
  {
   "cell_type": "code",
   "execution_count": null,
   "id": "1d04ab8a",
   "metadata": {
    "ExecuteTime": {
     "end_time": "2022-03-16T11:23:48.376917Z",
     "start_time": "2022-03-16T11:23:48.374578Z"
    }
   },
   "outputs": [],
   "source": [
    "print(\"Indices of control subjects\")\n",
    "print(stai[stai['Scores'] <= cutoff].index)\n",
    "print(\"Participants do fit in the correct group except for two participants: participant 21 is from the 'calm' group \\\n",
    "      and participant 26 is from the 'anxious' group \")"
   ]
  },
  {
   "cell_type": "code",
   "execution_count": null,
   "id": "283dcf53",
   "metadata": {
    "ExecuteTime": {
     "end_time": "2022-03-26T12:36:46.624399Z",
     "start_time": "2022-03-26T12:36:46.613773Z"
    },
    "scrolled": true
   },
   "outputs": [],
   "source": [
    "# Number of times each participant chose option A\n",
    "\n",
    "#### creating one hot encoding version of choices. A = 0, B = 1\n",
    "choices_oh = choices-1\n",
    "####\n",
    "(1-choices_oh).mean(axis=1)"
   ]
  },
  {
   "cell_type": "code",
   "execution_count": null,
   "id": "92e84eab",
   "metadata": {
    "ExecuteTime": {
     "end_time": "2022-03-27T01:39:19.866727Z",
     "start_time": "2022-03-27T01:39:19.859372Z"
    }
   },
   "outputs": [],
   "source": [
    "print(\"Average selection of choice A: \",np.round((1-choices_oh).mean(axis=1).mean(),4))"
   ]
  },
  {
   "cell_type": "code",
   "execution_count": null,
   "id": "b870e797",
   "metadata": {
    "ExecuteTime": {
     "end_time": "2022-03-20T13:08:51.235445Z",
     "start_time": "2022-03-20T13:08:51.214424Z"
    },
    "scrolled": true
   },
   "outputs": [],
   "source": [
    "# Expected number of aversive sounds experienced by participants\n",
    "phase_0=list(choices_oh)[:40]\n",
    "phase_1=list(choices_oh)[40:80]\n",
    "phase_2=list(choices_oh)[80:120]\n",
    "phase_3=list(choices_oh)[120:160]\n",
    "\n",
    "summary = (1-choices_oh[phase_0]).sum(axis=1)*0.6+(1-choices_oh[phase_1]).sum(axis=1)*0.8+(1-choices_oh[phase_2]).sum(axis=1)*0.6+\\\n",
    "(1-choices_oh[phase_3]).sum(axis=1)*0.65+\\\n",
    "(choices_oh[phase_0]).sum(axis=1)*0.4+(choices_oh[phase_1]).sum(axis=1)*0.2+(choices_oh[phase_2]).sum(axis=1)*0.4+\\\n",
    "(choices_oh[phase_3]).sum(axis=1)*0.35\n",
    "# Don't be confused by the cell above. This is the expected number. The cell above shows the proportion over 160 trials\n"
   ]
  },
  {
   "cell_type": "code",
   "execution_count": null,
   "id": "06ebfe98",
   "metadata": {
    "ExecuteTime": {
     "end_time": "2022-03-20T13:08:58.630532Z",
     "start_time": "2022-03-20T13:08:58.625637Z"
    }
   },
   "outputs": [],
   "source": [
    "np.mean(summary)"
   ]
  },
  {
   "cell_type": "markdown",
   "id": "403a34f5",
   "metadata": {
    "ExecuteTime": {
     "end_time": "2022-03-12T13:47:22.510515Z",
     "start_time": "2022-03-12T13:47:22.501610Z"
    }
   },
   "source": [
    "## Task B"
   ]
  },
  {
   "cell_type": "code",
   "execution_count": null,
   "id": "458b449b",
   "metadata": {
    "ExecuteTime": {
     "end_time": "2022-03-26T11:45:31.034184Z",
     "start_time": "2022-03-26T11:45:31.020328Z"
    }
   },
   "outputs": [],
   "source": [
    "def outc(action,prob_a,prob_b):\n",
    "    \"\"\"\n",
    "    Outcome function: decides the outcome given choice and probabilities from experiment stage\n",
    "    action: option selected\n",
    "    prob_a: probability for option A\n",
    "    prob_b: probability for option B\n",
    "    \"\"\"\n",
    "    \n",
    "    if action == 0:\n",
    "        prob = prob_a\n",
    "    else:\n",
    "        prob = prob_b\n",
    "        \n",
    "    return int(random.uniform(0,1) < prob)\n",
    "\n",
    "def rl_gen(alpha, beta, init_v):\n",
    "    \"\"\"\n",
    "    RL model\n",
    "    \"\"\"\n",
    "    v = np.ones(2)*init_v\n",
    "    prog_v = []\n",
    "    count = 0\n",
    "    for i in range(160):\n",
    "        \n",
    "        prob_a=0\n",
    "        if i < 40:\n",
    "            prob_a = 0.6\n",
    "        elif i < 80:\n",
    "            prob_a = 0.8\n",
    "        elif i < 120:\n",
    "            prob_a = 0.6\n",
    "        else:\n",
    "            prob_a = 0.65\n",
    "        \n",
    "        prob_b = 1-prob_a\n",
    "        \n",
    "        #action\n",
    "        p_action_a = np.exp(-beta*v[0])/(np.exp(-beta*v[0])+np.exp(-beta*v[1]))\n",
    "        \n",
    "        if random.uniform(0,1)<p_action_a:\n",
    "            a = 0\n",
    "        else:\n",
    "            a = 1\n",
    "        \n",
    "        \n",
    "        out = outc(a,prob_a,prob_b)\n",
    "        \n",
    "        v[a] += alpha*(out-v[a])\n",
    "        \n",
    "        prog_v.append(v.copy())\n",
    "        count +=out\n",
    "    \n",
    "    return v,prog_v ,count"
   ]
  },
  {
   "cell_type": "code",
   "execution_count": null,
   "id": "4ba688eb",
   "metadata": {
    "ExecuteTime": {
     "end_time": "2022-03-26T11:45:33.362104Z",
     "start_time": "2022-03-26T11:45:32.791902Z"
    },
    "scrolled": true
   },
   "outputs": [],
   "source": [
    "# run simulations\n",
    "\n",
    "n = 1000\n",
    "res = []\n",
    "v_evol = []\n",
    "\n",
    "for i in range(n):\n",
    "    v, prog_v,c = rl_gen(0.3,8,0.5)\n",
    "    \n",
    "    res.append(v)\n",
    "    v_evol.append(prog_v)\n",
    "np.mean(res,axis=0)\n",
    "v_evol = np.array(v_evol)"
   ]
  },
  {
   "cell_type": "code",
   "execution_count": 469,
   "id": "3a0df789",
   "metadata": {
    "ExecuteTime": {
     "end_time": "2022-03-27T02:15:15.395349Z",
     "start_time": "2022-03-27T02:15:14.920738Z"
    }
   },
   "outputs": [
    {
     "data": {
      "image/png": "[encoded data removed]",
      "text/plain": [
       "<Figure size 720x432 with 1 Axes>"
      ]
     },
     "metadata": {},
     "output_type": "display_data"
    }
   ],
   "source": [
    "# plot average evolution\n",
    "fig, ax = plt.subplots(1,1, figsize = (10,6))\n",
    "\n",
    "avg_evol=v_evol.mean(axis=0)\n",
    "#std_evol = v_evol.std(axis=0)\n",
    "ax.plot(avg_evol[:,0], label= \"Stimulus A\")\n",
    "#ax[0].fill_between(range(160), avg_evol[:,0]+std_evol[:,0], avg_evol[:,0]-std_evol[:,0],alpha=0.2)\n",
    "ax.plot(avg_evol[:,1], label= \"Stimulus B\")\n",
    "#ax[0].fill_between(range(160), avg_evol[:,1]+std_evol[:,1], avg_evol[:,1]-std_evol[:,1],alpha=0.2)\n",
    "ax.set_xlabel(\"Trial\",size=28)\n",
    "ax.set_ylabel(r\"$V^{(t)}$\",size=28)\n",
    "\n",
    "\n",
    "ax.tick_params(axis='x', labelsize=30)\n",
    "ax.tick_params(axis='y', labelsize=30)\n",
    "#ax.text(0,1.05,\"A\",transform=ax[0].transAxes,fontsize=34,weight='bold')\n",
    "\n",
    "\n",
    "#plot average difference evolution\n",
    "diff_evol = v_evol[:,:,0]-v_evol[:,:,1]\n",
    "diff_evol=diff_evol.mean(axis=0)\n",
    "#std_evol = diff_evol.std(axis=0)\n",
    "\n",
    "ax.plot(diff_evol, label= \"Stim. A - Stim. B\",linestyle=\"--\",alpha=0.8)\n",
    "#ax[1].fill_between(range(160), diff_evol+std_evol,  diff_evol-std_evol,alpha=0.2)\n",
    "\n",
    "#ax[1].text(0,1.05,\"B\",transform=ax[1].transAxes,fontsize=34,weight='bold')\n",
    "ax.legend(prop={'size': 18})\n",
    "plt.tight_layout()\n",
    "plt.show()\n",
    "fig.savefig('/Users/josehernandez/Documents/The University of Edinburgh/Academics/SEM2/CCN/Assignment 2/Plots/fig1_.png',dpi=400)\n"
   ]
  },
  {
   "cell_type": "markdown",
   "id": "18b714e5",
   "metadata": {
    "ExecuteTime": {
     "end_time": "2022-03-12T16:19:58.529657Z",
     "start_time": "2022-03-12T16:19:58.431303Z"
    }
   },
   "source": [
    "## Task C"
   ]
  },
  {
   "cell_type": "code",
   "execution_count": null,
   "id": "3892fce8",
   "metadata": {
    "ExecuteTime": {
     "end_time": "2022-03-20T17:24:31.875137Z",
     "start_time": "2022-03-20T14:54:21.636089Z"
    }
   },
   "outputs": [],
   "source": [
    "# Simulate hyperparameters\n",
    "alphas = np.linspace(0.01,0.99,100)\n",
    "betas = np.linspace(0.01,9.99,100)\n",
    "ccc_list = []\n",
    "for alpha in alphas:\n",
    "    \n",
    "    cc_list = []\n",
    "    for beta in betas:\n",
    "        # run simulations\n",
    "        \n",
    "        n = 1000\n",
    "        c_list = []\n",
    "        for i in range(n):\n",
    "            v, prog_v,c = rl_gen(alpha,beta,0.5)\n",
    "            c_list.append(c)\n",
    "\n",
    "        cc_list.append(np.mean(c_list))\n",
    "        \n",
    "        \n",
    "    ccc_list.append(cc_list)\n",
    "ccc_list = np.array(ccc_list)"
   ]
  },
  {
   "cell_type": "code",
   "execution_count": null,
   "id": "e2eba42c",
   "metadata": {
    "ExecuteTime": {
     "end_time": "2022-03-21T19:05:46.454855Z",
     "start_time": "2022-03-21T19:05:44.964683Z"
    },
    "scrolled": false
   },
   "outputs": [],
   "source": [
    "# Plot heatmap with aversive counts\n",
    "\n",
    "fig, ax = plt.subplots(1,1, figsize = (16,12))\n",
    "sns.heatmap(ccc_list,xticklabels = np.round(betas,2),yticklabels=np.round(alphas,2))\n",
    "plt.xticks(np.arange(0,len(betas),9) + 0.5)\n",
    "plt.yticks(np.arange(0,len(alphas),9) + 0.5)\n",
    "plt.xlabel(r\"$\\beta$\",size=40)\n",
    "plt.ylabel(r\"$\\alpha$\",size=40)\n",
    "plt.tick_params(axis='x', labelsize=35)\n",
    "plt.tick_params(axis='y', labelsize=35)\n",
    "cax = plt.gcf().axes[-1]\n",
    "cax.tick_params(labelsize=35)\n",
    "\n",
    "plt.tight_layout()\n",
    "plt.show()\n",
    "fig.savefig('/Users/josehernandez/Documents/The University of Edinburgh/Academics/SEM2/CCN/Assignment 2/Plots/fig2.png',dpi=400)\n"
   ]
  },
  {
   "cell_type": "markdown",
   "id": "8dc5b8e9",
   "metadata": {
    "ExecuteTime": {
     "end_time": "2022-03-12T18:21:14.720408Z",
     "start_time": "2022-03-12T18:21:14.698980Z"
    }
   },
   "source": [
    "## Task D"
   ]
  },
  {
   "cell_type": "code",
   "execution_count": null,
   "id": "1789e8c1",
   "metadata": {
    "ExecuteTime": {
     "end_time": "2022-03-21T19:10:14.005087Z",
     "start_time": "2022-03-21T19:10:13.997866Z"
    }
   },
   "outputs": [],
   "source": [
    "def log_lh(params,choices,outcomes):\n",
    "    \"\"\"\n",
    "    Log likelihood function for first model\n",
    "    \"\"\"\n",
    "    init_v = 0.5\n",
    "    v = np.ones(2)*init_v\n",
    "    prog_v = []\n",
    "    count = 0\n",
    "    ll=0\n",
    "    alpha=params[0]\n",
    "    beta = params[1]\n",
    "    for i in range(160):\n",
    "        \n",
    "        \n",
    "        \n",
    "        #action\n",
    "        p_action_a = np.exp(-beta*v[0])/(np.exp(-beta*v[0])+np.exp(-beta*v[1]))\n",
    "        #ll+=np.log(p_action_a)\n",
    "        a = choices[i]\n",
    "        #print(a)\n",
    "        ll+=np.log((p_action_a**(1-a))*((1-p_action_a)**(a)))\n",
    "        \n",
    "        \n",
    "        \n",
    "        \n",
    "        \n",
    "        v[a] += alpha*(outcomes[i]-v[a])\n",
    "        \n",
    "        prog_v.append(v.copy())\n",
    "        \n",
    "    return -ll"
   ]
  },
  {
   "cell_type": "code",
   "execution_count": null,
   "id": "9edeaa20",
   "metadata": {
    "ExecuteTime": {
     "end_time": "2022-03-21T19:10:15.590077Z",
     "start_time": "2022-03-21T19:10:15.579079Z"
    }
   },
   "outputs": [],
   "source": [
    "# Testing 2nd participant\n",
    "log_lh([0.3,8],choices_oh.to_numpy()[1,:],outcomes.to_numpy()[1,:])"
   ]
  },
  {
   "cell_type": "code",
   "execution_count": null,
   "id": "257d4c3e",
   "metadata": {
    "ExecuteTime": {
     "end_time": "2022-03-21T19:10:16.851771Z",
     "start_time": "2022-03-21T19:10:16.837790Z"
    }
   },
   "outputs": [],
   "source": [
    "# NLL for 1st and 10th participant\n",
    "first = log_lh([0.3,8],choices_oh.to_numpy()[0,:],outcomes.to_numpy()[0,:])\n",
    "tenth = log_lh([0.3,8],choices_oh.to_numpy()[9,:],outcomes.to_numpy()[9,:])\n",
    "\n",
    "print(\"NLL for first participant: \", np.round(first,2))\n",
    "print(\"NLL for tenth participant: \", np.round(tenth,2))\n"
   ]
  },
  {
   "cell_type": "markdown",
   "id": "07e18169",
   "metadata": {},
   "source": [
    "## Task E"
   ]
  },
  {
   "cell_type": "code",
   "execution_count": null,
   "id": "a39cc498",
   "metadata": {
    "ExecuteTime": {
     "end_time": "2022-03-21T19:10:21.800144Z",
     "start_time": "2022-03-21T19:10:19.103644Z"
    }
   },
   "outputs": [],
   "source": [
    "best_params = []\n",
    "for i in range(50):\n",
    "    res=optimize.minimize(log_lh,x0=[0.3,8],method='Nelder-Mead',args=(choices_oh.to_numpy()[i,:],outcomes.to_numpy()[i,:]))\n",
    "    best_params.append(res.x)\n",
    "best_params = np.array(best_params)"
   ]
  },
  {
   "cell_type": "code",
   "execution_count": null,
   "id": "6f00d7fe",
   "metadata": {
    "ExecuteTime": {
     "end_time": "2022-03-21T19:10:21.803320Z",
     "start_time": "2022-03-21T19:10:21.801103Z"
    }
   },
   "outputs": [],
   "source": [
    "print(\"Mean of alpha :\",np.mean(best_params[:,0]))\n",
    "print(\"Variance of alpha :\",np.var(best_params[:,0]))\n",
    "print(\"\\n\")\n",
    "print(\"Mean of beta :\",np.mean(best_params[:,1]))\n",
    "print(\"Variance of beta :\",np.var(best_params[:,1]))"
   ]
  },
  {
   "cell_type": "code",
   "execution_count": 465,
   "id": "223b8e6a",
   "metadata": {
    "ExecuteTime": {
     "end_time": "2022-03-27T02:13:06.717091Z",
     "start_time": "2022-03-27T02:13:05.924381Z"
    }
   },
   "outputs": [
    {
     "data": {
      "image/png": "[encoded data removed]",
      "text/plain": [
       "<Figure size 864x720 with 2 Axes>"
      ]
     },
     "metadata": {},
     "output_type": "display_data"
    }
   ],
   "source": [
    "# plot average evolution\n",
    "fig, ax = plt.subplots(2,1, figsize = (12,10))\n",
    "ax[0].scatter(range(0,50),best_params[:,0], label= \"Alpha\")\n",
    "ax[1].scatter(range(0,50),best_params[:,1], label= \"Beta\")\n",
    "ax[0].axvline(x=25,color=\"red\",alpha=0.5,linestyle=\"--\")\n",
    "ax[1].axvline(x=25,color=\"red\",alpha=0.5,linestyle=\"--\")\n",
    "\n",
    "#plt.legend(prop={'size': 18})\n",
    "ax[0].xaxis.set_ticklabels([])\n",
    "ax[0].tick_params(axis='y', labelsize=27)\n",
    "ax[1].tick_params(axis='x', labelsize=27)\n",
    "ax[1].tick_params(axis='y', labelsize=27)\n",
    "ax[0].set_ylabel(r\"$\\alpha$\",size=28)\n",
    "ax[1].set_ylabel(r\"$\\beta$\",size=28)\n",
    "ax[1].set_xlabel(\"Participant\",size=28)\n",
    "\n",
    "\n",
    "ax[0].text(0,1.05,\"A\",transform=ax[0].transAxes,fontsize=28,weight='bold')\n",
    "ax[1].text(0,1.05,\"B\",transform=ax[1].transAxes,fontsize=28,weight='bold')\n",
    "\n",
    "plt.show()\n",
    "fig.savefig('/Users/josehernandez/Documents/The University of Edinburgh/Academics/SEM2/CCN/Assignment 2/Plots/fig3.png',dpi=400)\n"
   ]
  },
  {
   "cell_type": "code",
   "execution_count": null,
   "id": "bf1c74ce",
   "metadata": {
    "ExecuteTime": {
     "end_time": "2022-03-16T11:23:57.693549Z",
     "start_time": "2022-03-16T11:23:57.690484Z"
    }
   },
   "outputs": [],
   "source": [
    "# Pearson correlation across all participants\n",
    "\n",
    "print(\"Pearson correlation across all participants: \",np.round(np.corrcoef(best_params.T)[0,1],4))\n",
    "print(\"Pearson correlation across high anxiety participants: \",np.round(np.corrcoef(best_params[:25,:].T)[0,1],4))\n",
    "print(\"Pearson correlation across low anxiety participants: \",np.round(np.corrcoef(best_params[25:,:].T)[0,1],4))\n"
   ]
  },
  {
   "cell_type": "markdown",
   "id": "6fe3ff99",
   "metadata": {
    "ExecuteTime": {
     "end_time": "2022-03-12T19:52:01.908731Z",
     "start_time": "2022-03-12T19:52:01.903472Z"
    }
   },
   "source": [
    "## Task F"
   ]
  },
  {
   "cell_type": "code",
   "execution_count": null,
   "id": "40c6396f",
   "metadata": {
    "ExecuteTime": {
     "end_time": "2022-03-21T19:36:11.427418Z",
     "start_time": "2022-03-21T19:36:11.412338Z"
    }
   },
   "outputs": [],
   "source": [
    "print(\"t-statistic for alpha test: \", np.round(scipy.stats.ttest_ind(best_params[:25,:],best_params[25:,:]).statistic[0],4))\n",
    "print(\"t-statistic for beta test: \", np.round(scipy.stats.ttest_ind(best_params[:25,:],best_params[25:,:]).statistic[1],4))\n",
    "\n",
    "print(\"Degrees of freedom: \",48)\n",
    "print(\"p-value for alpha test: \", np.round(scipy.stats.ttest_ind(best_params[:25,:],best_params[25:,:]).pvalue[0],4))\n",
    "print(\"p-value for beta test: \", np.round(scipy.stats.ttest_ind(best_params[:25,:],best_params[25:,:]).pvalue[1],4))\n",
    "\n",
    "\n"
   ]
  },
  {
   "cell_type": "markdown",
   "id": "1b016b9b",
   "metadata": {
    "ExecuteTime": {
     "end_time": "2022-03-12T20:08:12.686696Z",
     "start_time": "2022-03-12T20:08:12.681003Z"
    }
   },
   "source": [
    "## Task G"
   ]
  },
  {
   "cell_type": "code",
   "execution_count": null,
   "id": "af4d67fc",
   "metadata": {
    "ExecuteTime": {
     "end_time": "2022-03-13T03:28:01.133596Z",
     "start_time": "2022-03-13T03:28:01.126546Z"
    }
   },
   "outputs": [],
   "source": []
  },
  {
   "cell_type": "code",
   "execution_count": null,
   "id": "79f2a7cf",
   "metadata": {
    "ExecuteTime": {
     "end_time": "2022-03-22T00:29:08.404934Z",
     "start_time": "2022-03-22T00:29:08.396434Z"
    }
   },
   "outputs": [],
   "source": [
    "def rl_gen_g(alpha, beta, init_v):\n",
    "    \"\"\"\n",
    "    RL for first model to simulate outcome and choices selection\n",
    "    \"\"\"\n",
    "    v = np.ones(2)*init_v\n",
    "    out_list = []\n",
    "    action_list = []\n",
    "    for i in range(160):\n",
    "        \n",
    "        prob_a=0\n",
    "        if i < 40:\n",
    "            prob_a = 0.6\n",
    "        elif i < 80:\n",
    "            prob_a = 0.8\n",
    "        elif i < 120:\n",
    "            prob_a = 0.6\n",
    "        else:\n",
    "            prob_a = 0.65\n",
    "        \n",
    "        prob_b = 1-prob_a\n",
    "        \n",
    "        #action\n",
    "        p_action_a = np.exp(-beta*v[0])/(np.exp(-beta*v[0])+np.exp(-beta*v[1]))\n",
    "        \n",
    "        if random.uniform(0,1)<p_action_a:\n",
    "            a = 0\n",
    "        else:\n",
    "            a = 1\n",
    "        \n",
    "        \n",
    "        out = outc(a,prob_a,prob_b)\n",
    "        \n",
    "        v[a] += alpha*(out-v[a])\n",
    "        \n",
    "        out_list.append(out)\n",
    "        action_list.append(a)\n",
    "        \n",
    "        \n",
    "    return out_list, action_list"
   ]
  },
  {
   "cell_type": "code",
   "execution_count": null,
   "id": "027fd073",
   "metadata": {
    "ExecuteTime": {
     "end_time": "2022-03-22T00:39:56.440298Z",
     "start_time": "2022-03-22T00:39:55.742161Z"
    }
   },
   "outputs": [],
   "source": []
  },
  {
   "cell_type": "code",
   "execution_count": null,
   "id": "a7fae756",
   "metadata": {
    "ExecuteTime": {
     "end_time": "2022-03-22T16:18:58.458468Z",
     "start_time": "2022-03-22T16:18:43.748013Z"
    }
   },
   "outputs": [],
   "source": [
    "# Iterate 5 times calculating Pearson's correlation comparing simulated and fitted parameters\n",
    "\n",
    "for itera in range(5):\n",
    "\n",
    "    anx_mean = np.mean(best_params[:25,:],axis=0)\n",
    "    ctrl_mean = np.mean(best_params[25:,:],axis=0)\n",
    "    \n",
    "    overall_median = np.median(best_params,axis=0)\n",
    "    \n",
    "    mode = None #set mode to diff if mean are different from the first 25 participants from the last 25\n",
    "\n",
    "\n",
    "    if mode == \"diff\":\n",
    "        \n",
    "\n",
    "        anx=np.random.multivariate_normal(anx_mean,[[0.01,0],[0,0.5]],size=25)\n",
    "        ctrl=np.random.multivariate_normal(ctrl_mean,[[0.01,0],[0,0.5]],size=25)\n",
    "\n",
    "        params = np.vstack((anx,ctrl))\n",
    "    else:\n",
    "\n",
    "\n",
    "        params=np.random.multivariate_normal(overall_median,[[0.01,0],[0,0.5]],size=50)\n",
    "\n",
    "    if itera == 0:\n",
    "        fig, ax = plt.subplots(1,1, figsize = (12,10))\n",
    "        ax.scatter(params[:,1],params[:,0])\n",
    "        ax.tick_params(axis='x', labelsize=27)\n",
    "        ax.tick_params(axis='y', labelsize=27)\n",
    "        plt.xlabel(r\"$\\beta$\",size=30)\n",
    "        plt.ylabel(r\"$\\alpha$\",size=30)\n",
    "        plt.show()\n",
    "        fig.savefig('/Users/josehernandez/Documents/The University of Edinburgh/Academics/SEM2/CCN/Assignment 2/Plots/fig4.png',dpi=400)\n",
    "\n",
    "\n",
    "    outcomes_synth = []\n",
    "    actions_synth = []\n",
    "    for param in params:\n",
    "        \n",
    "        outcome, actions = rl_gen_g(param[0],param[1],0.5)\n",
    "        outcomes_synth.append(outcome)\n",
    "        actions_synth.append(actions)\n",
    "    outcomes_synth = np.array(outcomes_synth)\n",
    "    actions_synth = np.array(actions_synth)\n",
    "\n",
    "    best_params_g = []\n",
    "    for i in range(50):\n",
    "        res=optimize.minimize(log_lh,x0=[0.3,8],method='Nelder-Mead',args=(actions_synth[i,:],outcomes_synth[i,:]))\n",
    "        best_params_g.append(res.x)\n",
    "    best_params_g = np.array(best_params_g)\n",
    "\n",
    "\n",
    "\n",
    "\n",
    "    new_alphas = np.vstack((params[:,0],best_params_g[:,0]))\n",
    "    new_betas = np.vstack((params[:,1],best_params_g[:,1]))\n",
    "    \n",
    "    if itera == 0:\n",
    "        new_alphas_plot = new_alphas\n",
    "        new_betas_plot = new_betas\n",
    "    \n",
    "    print(\"Pearson correlation between alphas for iteration \",itera+1,\": \",np.round(np.corrcoef(new_alphas)[0,1],4))\n",
    "    print(\"Pearson correlation between betas for iteration \",itera+1,\": \",np.round(np.corrcoef(new_betas)[0,1],4))\n",
    "    print(\"\\n\")"
   ]
  },
  {
   "cell_type": "code",
   "execution_count": null,
   "id": "0f79cd27",
   "metadata": {
    "ExecuteTime": {
     "end_time": "2022-03-22T16:19:09.872777Z",
     "start_time": "2022-03-22T16:19:09.867384Z"
    }
   },
   "outputs": [],
   "source": [
    "# Identify outliers\n",
    "outlim=np.abs(new_betas_plot[0,:]-new_betas_plot[1,:])<2\n",
    "colors = np.array([\"b\" if i else \"r\" for i in outlim])\n"
   ]
  },
  {
   "cell_type": "code",
   "execution_count": null,
   "id": "257553a8",
   "metadata": {
    "ExecuteTime": {
     "end_time": "2022-03-22T16:19:10.741421Z",
     "start_time": "2022-03-22T16:19:10.024096Z"
    }
   },
   "outputs": [],
   "source": [
    "\n",
    "# Plot correlation\n",
    "\n",
    "fig, ax = plt.subplots(1,2, figsize = (14,7))\n",
    "ax[0].scatter(new_alphas_plot[0],new_alphas_plot[1],c=colors)\n",
    "ax[1].scatter(new_betas_plot[0],new_betas_plot[1],c=colors)\n",
    "ax[0].plot([0.1,0.8],[0.1,0.8], ls=\"--\", c=\"k\")\n",
    "ax[1].plot([3,8],[3,8], ls=\"--\", c=\"k\")\n",
    "ax[0].tick_params(axis='x', labelsize=25)\n",
    "ax[0].tick_params(axis='y', labelsize=25)\n",
    "ax[1].tick_params(axis='x', labelsize=25)\n",
    "ax[1].tick_params(axis='y', labelsize=25)\n",
    "ax[0].set_xlabel(r\"simulated$ \\ \\alpha$\",size=27)\n",
    "ax[0].set_ylabel(r\"fit$ \\ \\alpha$\",size=27)\n",
    "ax[1].set_xlabel(r\"simulated$ \\ \\beta$\",size=27)\n",
    "ax[1].set_ylabel(r\"fit$ \\ \\beta$\",size=27)\n",
    "ax[0].text(0,1.05,\"A\",transform=ax[0].transAxes,fontsize=28,weight='bold')\n",
    "ax[1].text(0,1.05,\"B\",transform=ax[1].transAxes,fontsize=28,weight='bold')\n",
    "plt.tight_layout()\n",
    "plt.show()\n",
    "fig.savefig('/Users/josehernandez/Documents/The University of Edinburgh/Academics/SEM2/CCN/Assignment 2/Plots/fig5.png',dpi=400)\n"
   ]
  },
  {
   "cell_type": "markdown",
   "id": "4696d01c",
   "metadata": {},
   "source": [
    "## Task H"
   ]
  },
  {
   "cell_type": "code",
   "execution_count": null,
   "id": "41d80fb3",
   "metadata": {
    "ExecuteTime": {
     "end_time": "2022-03-22T18:16:45.989091Z",
     "start_time": "2022-03-22T18:16:45.970091Z"
    }
   },
   "outputs": [],
   "source": [
    "# https://www.sciencedirect.com/science/article/pii/S0149763415001311?via%3Dihub\n",
    "# https://www.nature.com/articles/s41598-018-31730-w\n",
    "\n",
    "# A is memory\n",
    "\n",
    "def rl_gen_leaky(alpha, beta, A, init_v):\n",
    "    \"\"\"\n",
    "    RL for second model\n",
    "    \"\"\"\n",
    "    v = np.ones(2)*init_v\n",
    "    prog_v = []\n",
    "    count = 0\n",
    "    for i in range(160):\n",
    "        \n",
    "        prob_a=0\n",
    "        if i < 40:\n",
    "            prob_a = 0.6\n",
    "        elif i < 80:\n",
    "            prob_a = 0.8\n",
    "        elif i < 120:\n",
    "            prob_a = 0.6\n",
    "        else:\n",
    "            prob_a = 0.65\n",
    "        \n",
    "        prob_b = 1-prob_a\n",
    "        \n",
    "        #action\n",
    "        p_action_a = np.exp(-beta*v[0])/(np.exp(-beta*v[0])+np.exp(-beta*v[1]))\n",
    "        \n",
    "        if random.uniform(0,1)<p_action_a:\n",
    "            a = 0\n",
    "        else:\n",
    "            a = 1\n",
    "        \n",
    "        \n",
    "        out = outc(a,prob_a,prob_b)\n",
    "        \n",
    "        v[a] = A*v[a] + alpha*(out-v[a])\n",
    "        \n",
    "        prog_v.append(v.copy())\n",
    "        count +=out\n",
    "        \n",
    "    return v,prog_v ,count"
   ]
  },
  {
   "cell_type": "code",
   "execution_count": null,
   "id": "183ebe8e",
   "metadata": {
    "ExecuteTime": {
     "end_time": "2022-03-22T18:16:51.322427Z",
     "start_time": "2022-03-22T18:16:50.720123Z"
    }
   },
   "outputs": [],
   "source": [
    "# run simulations\n",
    "n = 1000\n",
    "res = []\n",
    "v_evol = []\n",
    "\n",
    "for i in range(n):\n",
    "    v, prog_v,c = rl_gen_leaky(0.4,5,0.5,0.5)\n",
    "    \n",
    "    res.append(v)\n",
    "    v_evol.append(prog_v)\n",
    "np.mean(res,axis=0)\n",
    "v_evol = np.array(v_evol)"
   ]
  },
  {
   "cell_type": "code",
   "execution_count": null,
   "id": "0d49c1b3",
   "metadata": {
    "ExecuteTime": {
     "end_time": "2022-03-22T18:17:30.928352Z",
     "start_time": "2022-03-22T18:17:30.915779Z"
    }
   },
   "outputs": [],
   "source": [
    "def log_lh_leaky(params,choices,outcomes):\n",
    "    \"\"\"\n",
    "    Log likelihood for second model\n",
    "    \"\"\"\n",
    "    init_v = 0.5\n",
    "    v = np.ones(2)*init_v\n",
    "    prog_v = []\n",
    "    count = 0\n",
    "    ll=0\n",
    "    alpha=params[0]\n",
    "    beta = params[1]\n",
    "    A = params[2]\n",
    "    for i in range(160):\n",
    "        \n",
    "        \n",
    "        \n",
    "        #action\n",
    "        p_action_a = np.exp(-beta*v[0])/(np.exp(-beta*v[0])+np.exp(-beta*v[1]))\n",
    "        #ll+=np.log(p_action_a)\n",
    "        a = choices[i]\n",
    "        #print(a)\n",
    "        ll+=np.log((p_action_a**(1-a))*((1-p_action_a)**(a)))\n",
    "        \n",
    "        \n",
    "        \n",
    "        \n",
    "        \n",
    "        v[a] = A*v[a] + alpha*(outcomes[i]-v[a])\n",
    "        \n",
    "        prog_v.append(v.copy())\n",
    "        \n",
    "    return -ll"
   ]
  },
  {
   "cell_type": "code",
   "execution_count": null,
   "id": "64cb705a",
   "metadata": {
    "ExecuteTime": {
     "end_time": "2022-03-22T18:17:56.440895Z",
     "start_time": "2022-03-22T18:17:43.267444Z"
    }
   },
   "outputs": [],
   "source": [
    "best_params_h = []\n",
    "for i in range(50):\n",
    "    res=optimize.minimize(log_lh_leaky,x0=[0.4,5,0.5],method='Nelder-Mead',args=(choices_oh.to_numpy()[i,:],outcomes.to_numpy()[i,:]))\n",
    "    best_params_h.append(res.x)\n",
    "best_params_h = np.array(best_params_h)"
   ]
  },
  {
   "cell_type": "code",
   "execution_count": null,
   "id": "a16d1316",
   "metadata": {
    "ExecuteTime": {
     "end_time": "2022-03-22T18:17:56.444251Z",
     "start_time": "2022-03-22T18:17:56.441784Z"
    }
   },
   "outputs": [],
   "source": [
    "print(\"Mean of alpha :\",np.mean(best_params_h[:,0]))\n",
    "print(\"Variance of alpha :\",np.var(best_params_h[:,0]))\n",
    "print(\"\\n\")\n",
    "print(\"Mean of beta :\",np.mean(best_params_h[:,1]))\n",
    "print(\"Variance of beta :\",np.var(best_params_h[:,1]))\n",
    "print(\"\\n\")\n",
    "print(\"Mean of A :\",np.mean(best_params_h[:,2]))\n",
    "print(\"Variance of A :\",np.var(best_params_h[:,2]))"
   ]
  },
  {
   "cell_type": "code",
   "execution_count": null,
   "id": "33eb2bdc",
   "metadata": {
    "ExecuteTime": {
     "end_time": "2022-03-22T18:37:31.904570Z",
     "start_time": "2022-03-22T18:37:31.899215Z"
    }
   },
   "outputs": [],
   "source": [
    "print(\"Mean of A - alpha :\",np.mean(best_params_h[:,2]-best_params_h[:,0]))\n",
    "print(\"Variance of A - alpha :\",np.var(best_params_h[:,2]-best_params_h[:,0]))"
   ]
  },
  {
   "cell_type": "code",
   "execution_count": null,
   "id": "dfe00e60",
   "metadata": {
    "ExecuteTime": {
     "end_time": "2022-03-26T14:11:10.286010Z",
     "start_time": "2022-03-26T14:11:09.477721Z"
    }
   },
   "outputs": [],
   "source": [
    "# plot average evolution\n",
    "fig, ax = plt.subplots(1,1, figsize = (12,10))\n",
    "plt.scatter(range(0,50),best_params_h[:,0], label= r\"$\\alpha$\",alpha=0.7)\n",
    "plt.scatter(range(0,50),best_params_h[:,1], label= r\"$\\beta$\",alpha=1)\n",
    "plt.scatter(range(0,50),best_params_h[:,2], label= r\"$A$\",alpha=0.7)\n",
    "plt.legend(prop={'size': 27})\n",
    "plt.tick_params(axis='x', labelsize=27)\n",
    "plt.tick_params(axis='y', labelsize=27)\n",
    "plt.xlabel(\"Participant\",size=27)\n",
    "plt.ylabel(\"Parameter value\",size=27)\n",
    "plt.axvline(x=24.5,color=\"red\",alpha=0.5,linestyle=\"--\")\n",
    "\n",
    "plt.tight_layout()\n",
    "plt.show()\n",
    "fig.savefig('/Users/josehernandez/Documents/The University of Edinburgh/Academics/SEM2/CCN/Assignment 2/Plots/fig6.png',dpi=400)\n",
    "\n",
    "# What to do with wrong A values? \"Make sure the recovery process does not introduce correlations between parameters\"\n",
    "# search for this in https://elifesciences.org/articles/49547"
   ]
  },
  {
   "cell_type": "markdown",
   "id": "892666b2",
   "metadata": {},
   "source": [
    "## Task I"
   ]
  },
  {
   "cell_type": "code",
   "execution_count": null,
   "id": "98b50053",
   "metadata": {
    "ExecuteTime": {
     "end_time": "2022-03-22T18:56:58.192698Z",
     "start_time": "2022-03-22T18:56:58.071360Z"
    }
   },
   "outputs": [],
   "source": [
    "log_lh_mod1 = []\n",
    "log_lh_mod2 = []\n",
    "for i in range(choices_oh.to_numpy().shape[0]):\n",
    "    log_lh_mod1.append(log_lh([best_params[i,0],best_params[i,1]],choices_oh.to_numpy()[i,:],outcomes.to_numpy()[i,:]))\n",
    "    log_lh_mod2.append(log_lh_leaky([best_params_h[i,0],best_params_h[i,1],best_params_h[i,2]],choices_oh.to_numpy()[i,:],outcomes.to_numpy()[i,:]))\n",
    "\n",
    "log_lh_mod1 = np.array(log_lh_mod1)\n",
    "log_lh_mod2 = np.array(log_lh_mod2)\n",
    "\n",
    "print(\"Average log-likelihood for model 1:\",np.round(np.mean(log_lh_mod1),4))\n",
    "print(\"Average log-likelihood for model 2:\",np.round(np.mean(log_lh_mod2),4))\n",
    "\n",
    "print(\"t-test p-value: \",np.round(scipy.stats.ttest_ind(log_lh_mod1,log_lh_mod2).pvalue,4))\n",
    "\n"
   ]
  },
  {
   "cell_type": "code",
   "execution_count": null,
   "id": "1c670436",
   "metadata": {
    "ExecuteTime": {
     "end_time": "2022-03-22T18:57:01.940149Z",
     "start_time": "2022-03-22T18:57:01.931024Z"
    }
   },
   "outputs": [],
   "source": [
    "aic_mod1=np.sum(log_lh_mod1*2+2*2)\n",
    "aic_mod2=np.sum(log_lh_mod2*2+2*3)\n",
    "\n",
    "bic_mod1=np.sum(log_lh_mod1*2+2*np.log(160))\n",
    "bic_mod2=np.sum(log_lh_mod2*2+3*np.log(160))\n",
    "    \n",
    "print(\"AIC for model 1: \",np.round(aic_mod1,2))\n",
    "print(\"AIC for model 2: \",np.round(aic_mod2,2))\n",
    "print(\"BIC for model 1: \",np.round(bic_mod1,2))\n",
    "print(\"BIC for model 2: \",np.round(bic_mod2,2))"
   ]
  },
  {
   "cell_type": "markdown",
   "id": "ce91a167",
   "metadata": {
    "ExecuteTime": {
     "end_time": "2022-03-13T21:29:58.972273Z",
     "start_time": "2022-03-13T21:29:58.968076Z"
    }
   },
   "source": [
    "## Task J"
   ]
  },
  {
   "cell_type": "code",
   "execution_count": null,
   "id": "741d3586",
   "metadata": {
    "ExecuteTime": {
     "end_time": "2022-03-23T00:47:12.566367Z",
     "start_time": "2022-03-23T00:47:12.540874Z"
    }
   },
   "outputs": [],
   "source": [
    "def rl_gen_leaky_j(alpha, beta, A, init_v):\n",
    "    \"\"\"\n",
    "    RL to simulate parameters for second model\n",
    "    \"\"\"\n",
    "    v = np.ones(2)*init_v\n",
    "    out_list = []\n",
    "    action_list = []\n",
    "    for i in range(160):\n",
    "        \n",
    "        prob_a=0\n",
    "        if i < 40:\n",
    "            prob_a = 0.6\n",
    "        elif i < 80:\n",
    "            prob_a = 0.8\n",
    "        elif i < 120:\n",
    "            prob_a = 0.6\n",
    "        else:\n",
    "            prob_a = 0.65\n",
    "        \n",
    "        prob_b = 1-prob_a\n",
    "        \n",
    "        #action\n",
    "        p_action_a = np.exp(-beta*v[0])/(np.exp(-beta*v[0])+np.exp(-beta*v[1]))\n",
    "        \n",
    "        if random.uniform(0,1)<p_action_a:\n",
    "            a = 0\n",
    "        else:\n",
    "            a = 1\n",
    "        \n",
    "        \n",
    "        out = outc(a,prob_a,prob_b)\n",
    "        \n",
    "        v[a] = A*v[a] + alpha*(out-v[a])\n",
    "        \n",
    "        out_list.append(out)\n",
    "        action_list.append(a)\n",
    "        \n",
    "    return out_list, action_list"
   ]
  },
  {
   "cell_type": "code",
   "execution_count": null,
   "id": "ea9cbcf7",
   "metadata": {
    "ExecuteTime": {
     "end_time": "2022-03-23T01:03:42.705368Z",
     "start_time": "2022-03-23T01:03:42.439914Z"
    }
   },
   "outputs": [],
   "source": [
    "# First model recovery\n",
    "\n",
    "N = 500 #Number of simulated datapoints\n",
    "\n",
    "anx_mean = np.mean(best_params[:25,:],axis=0)\n",
    "ctrl_mean = np.mean(best_params[25:,:],axis=0)\n",
    "\n",
    "overall_median = np.median(best_params,axis=0)\n",
    "\n",
    "mode = None #set mode to diff if mean are different from the first 25 participants from the last 25\n",
    "\n",
    "#experimental\n",
    "#overall_median = best_params[0,:]\n",
    "\n",
    "if mode == \"diff\":\n",
    "\n",
    "\n",
    "    anx=np.random.multivariate_normal(anx_mean,[[0.01,0],[0,0.5]],size=N//2)\n",
    "    ctrl=np.random.multivariate_normal(ctrl_mean,[[0.01,0],[0,0.5]],size=N//2)\n",
    "\n",
    "    params = np.vstack((anx,ctrl))\n",
    "else:\n",
    "\n",
    "\n",
    "    params=np.random.multivariate_normal(overall_median,[[0.01,0],[0,0.5]],size=N)\n",
    "\n",
    "\n",
    "\n",
    "outcomes_synth = []\n",
    "actions_synth = []\n",
    "for param in params:\n",
    "\n",
    "    outcome, actions = rl_gen_g(param[0],param[1],0.5)\n",
    "    outcomes_synth.append(outcome)\n",
    "    actions_synth.append(actions)\n",
    "outcomes_synth_g = np.array(outcomes_synth)\n",
    "actions_synth_g = np.array(actions_synth)\n",
    "\n",
    "\n",
    "\n"
   ]
  },
  {
   "cell_type": "code",
   "execution_count": null,
   "id": "a1810da6",
   "metadata": {
    "ExecuteTime": {
     "end_time": "2022-03-23T01:03:43.474529Z",
     "start_time": "2022-03-23T01:03:43.197499Z"
    }
   },
   "outputs": [],
   "source": [
    "# Second model recovery\n",
    "\n",
    "best_params_h_mod = best_params_h[np.logical_and(np.logical_and(best_params_h[:,0]<1,best_params_h[:,2]<1),best_params_h[:,1]<10)]\n",
    "\n",
    "\n",
    "anx_median = np.median(best_params_h_mod[:25,:],axis=0)\n",
    "ctrl_median = np.median(best_params_h_mod[25:,:],axis=0)\n",
    "\n",
    "overall_median = np.median(best_params_h_mod,axis=0)\n",
    "#set mode to diff if mean are different from the first 25 participants from the last 25\n",
    "\n",
    "#experimental\n",
    "overall_median = best_params_h_mod[0,:]\n",
    "\n",
    "if mode == \"diff\":\n",
    "\n",
    "\n",
    "    anx=np.random.multivariate_normal(anx_median,[[0.01,0,0],[0,0.5,0],[0,0,0.1]],size=N//2)\n",
    "    ctrl=np.random.multivariate_normal(ctrl_median,[[0.01,0,0],[0,0.5,0],[0,0,0.1]],size=N//2)\n",
    "\n",
    "    params = np.vstack((anx,ctrl))\n",
    "else:\n",
    "\n",
    "\n",
    "    params=np.random.multivariate_normal(overall_median,[[0.01,0,0],[0,1,0],[0,0,0.1]],size=N)\n",
    "\n",
    "\n",
    "\n",
    "outcomes_synth = []\n",
    "actions_synth = []\n",
    "for param in params:\n",
    "    \n",
    "    outcome, actions = rl_gen_leaky_j(param[0],param[1],param[2],0.5)\n",
    "\n",
    "    outcomes_synth.append(outcome)\n",
    "    actions_synth.append(actions)\n",
    "outcomes_synth_j = np.array(outcomes_synth)\n",
    "actions_synth_j = np.array(actions_synth)\n",
    "\n"
   ]
  },
  {
   "cell_type": "code",
   "execution_count": null,
   "id": "f2689c12",
   "metadata": {
    "ExecuteTime": {
     "end_time": "2022-03-23T01:08:39.446243Z",
     "start_time": "2022-03-23T01:03:44.137573Z"
    }
   },
   "outputs": [],
   "source": [
    "# recovered models fitting\n",
    "\n",
    "best_params_00 = []\n",
    "best_params_10 = []\n",
    "best_params_01 = []\n",
    "best_params_11 = []\n",
    "for i in range(N):\n",
    "    res=optimize.minimize(log_lh,x0=[0.3,8],method='Nelder-Mead',args=(actions_synth_g[i,:],outcomes_synth_g[i,:]))\n",
    "    best_params_00.append(res.x)\n",
    "    res=optimize.minimize(log_lh_leaky,x0=[0.4,5,0.5],method='Nelder-Mead',args=(actions_synth_g[i,:],outcomes_synth_g[i,:]))\n",
    "    best_params_10.append(res.x)\n",
    "    res=optimize.minimize(log_lh,x0=[0.3,8],method='Nelder-Mead',args=(actions_synth_j[i,:],outcomes_synth_j[i,:]))\n",
    "    best_params_01.append(res.x)\n",
    "    res=optimize.minimize(log_lh_leaky,x0=[0.4,5,0.5],method='Nelder-Mead',args=(actions_synth_j[i,:],outcomes_synth_j[i,:]))\n",
    "    best_params_11.append(res.x)\n",
    "best_params_00 = np.array(best_params_00)\n",
    "best_params_10 = np.array(best_params_10)\n",
    "best_params_01 = np.array(best_params_01)\n",
    "best_params_11 = np.array(best_params_11)\n",
    "\n",
    "\n"
   ]
  },
  {
   "cell_type": "code",
   "execution_count": null,
   "id": "dcb65a8c",
   "metadata": {
    "ExecuteTime": {
     "end_time": "2022-03-23T01:08:40.911138Z",
     "start_time": "2022-03-23T01:08:39.447151Z"
    }
   },
   "outputs": [],
   "source": [
    "log_lh_mod_00 = []\n",
    "log_lh_mod_10 = []\n",
    "log_lh_mod_01 = []\n",
    "log_lh_mod_11 = []\n",
    "for i in range(N):\n",
    "    log_lh_mod_00.append(log_lh([best_params_00[i,0],best_params_00[i,1]],actions_synth_g[i,:],outcomes_synth_g[i,:]))\n",
    "    log_lh_mod_10.append(log_lh_leaky([best_params_10[i,0],best_params_10[i,1],best_params_10[i,2]],actions_synth_g[i,:],outcomes_synth_g[i,:]))\n",
    "    log_lh_mod_01.append(log_lh([best_params_01[i,0],best_params_01[i,1]],actions_synth_j[i,:],outcomes_synth_j[i,:]))\n",
    "    log_lh_mod_11.append(log_lh_leaky([best_params_11[i,0],best_params_11[i,1],best_params_11[i,2]],actions_synth_j[i,:],outcomes_synth_j[i,:]))\n",
    "\n",
    "log_lh_mod_00 = np.array(log_lh_mod_00)\n",
    "log_lh_mod_10 = np.array(log_lh_mod_10)\n",
    "log_lh_mod_01 = np.array(log_lh_mod_01)\n",
    "log_lh_mod_11 = np.array(log_lh_mod_11)\n",
    "\n",
    "\n"
   ]
  },
  {
   "cell_type": "code",
   "execution_count": null,
   "id": "cd30e500",
   "metadata": {
    "ExecuteTime": {
     "end_time": "2022-03-23T01:08:40.917258Z",
     "start_time": "2022-03-23T01:08:40.911755Z"
    }
   },
   "outputs": [],
   "source": [
    "aic_mod00=log_lh_mod_00*2+2*2\n",
    "aic_mod10=log_lh_mod_10*2+2*3\n",
    "aic_mod01=log_lh_mod_01*2+2*2\n",
    "aic_mod11=log_lh_mod_11*2+2*3\n",
    "\n",
    "bic_mod00=log_lh_mod_00*2+2*np.log(160)\n",
    "bic_mod10=log_lh_mod_10*2+3*np.log(160)\n",
    "bic_mod01=log_lh_mod_01*2+2*np.log(160)\n",
    "bic_mod11=log_lh_mod_11*2+3*np.log(160)\n",
    "    \n",
    "print(\"AIC for recovered model 1 data 1: \",np.round(np.sum(aic_mod00),2))\n",
    "print(\"AIC for recovered model 2 data 1: \",np.round(np.sum(aic_mod10),2))\n",
    "print(\"AIC for recovered model 1 data 2: \",np.round(np.sum(aic_mod01),2))\n",
    "print(\"AIC for recovered model 2 data 2: \",np.round(np.sum(aic_mod11),2))\n",
    "print(\"\\n\")\n",
    "print(\"BIC for recovered model 1 data 1: \",np.round(np.sum(bic_mod00),2))\n",
    "print(\"BIC for recovered model 2 data 1: \",np.round(np.sum(bic_mod10),2))\n",
    "print(\"BIC for recovered model 1 data 2: \",np.round(np.sum(bic_mod01),2))\n",
    "print(\"BIC for recovered model 2 data 2: \",np.round(np.sum(bic_mod11),2))"
   ]
  },
  {
   "cell_type": "code",
   "execution_count": null,
   "id": "c3ff2e5a",
   "metadata": {
    "ExecuteTime": {
     "end_time": "2022-03-16T12:51:46.242924Z",
     "start_time": "2022-03-16T12:51:46.237910Z"
    }
   },
   "outputs": [],
   "source": []
  },
  {
   "cell_type": "markdown",
   "id": "9bf0d26d",
   "metadata": {},
   "source": [
    "## Task K"
   ]
  },
  {
   "cell_type": "markdown",
   "id": "be305610",
   "metadata": {},
   "source": [
    "### Task K - H"
   ]
  },
  {
   "cell_type": "code",
   "execution_count": null,
   "id": "3fda2cb7",
   "metadata": {
    "ExecuteTime": {
     "end_time": "2022-03-23T01:57:14.189879Z",
     "start_time": "2022-03-23T01:57:14.175377Z"
    }
   },
   "outputs": [],
   "source": [
    "# https://www.sciencedirect.com/science/article/pii/S0149763415001311?via%3Dihub\n",
    "# https://www.nature.com/articles/s41598-018-31730-w\n",
    "\n",
    "# A is memory\n",
    "\n",
    "def rl_gen_var(alpha_0, alpha_1, beta, init_v):\n",
    "    \"\"\"\n",
    "    RL for third model\n",
    "    \"\"\"\n",
    "    v = np.ones(2)*init_v\n",
    "    prog_v = []\n",
    "    count = 0\n",
    "    for i in range(160):\n",
    "        \n",
    "        prob_a=0\n",
    "        if i < 40:\n",
    "            prob_a = 0.6\n",
    "        elif i < 80:\n",
    "            prob_a = 0.8\n",
    "        elif i < 120:\n",
    "            prob_a = 0.6\n",
    "        else:\n",
    "            prob_a = 0.65\n",
    "        \n",
    "        prob_b = 1-prob_a\n",
    "        \n",
    "        #action\n",
    "        p_action_a = np.exp(-beta*v[0])/(np.exp(-beta*v[0])+np.exp(-beta*v[1]))\n",
    "        \n",
    "        if random.uniform(0,1)<p_action_a:\n",
    "            a = 0\n",
    "        else:\n",
    "            a = 1\n",
    "        \n",
    "        \n",
    "        out = outc(a,prob_a,prob_b)\n",
    "        \n",
    "        v[a] += ((1-out)*alpha_0+out*alpha_1)*(out-v[a])\n",
    "        \n",
    "        prog_v.append(v.copy())\n",
    "        count +=out\n",
    "    print(count)\n",
    "    return v,prog_v ,count"
   ]
  },
  {
   "cell_type": "code",
   "execution_count": null,
   "id": "80d4ac1a",
   "metadata": {
    "ExecuteTime": {
     "end_time": "2022-03-14T13:50:38.357339Z",
     "start_time": "2022-03-14T13:50:38.331151Z"
    }
   },
   "outputs": [],
   "source": []
  },
  {
   "cell_type": "code",
   "execution_count": null,
   "id": "eaf79072",
   "metadata": {
    "ExecuteTime": {
     "end_time": "2022-03-23T01:57:15.944444Z",
     "start_time": "2022-03-23T01:57:15.935524Z"
    }
   },
   "outputs": [],
   "source": [
    "def log_lh_var(params,choices,outcomes):\n",
    "    \"\"\"\n",
    "    Log likelihood for third model\n",
    "    \"\"\"\n",
    "    init_v = 0.5\n",
    "    v = np.ones(2)*init_v\n",
    "    prog_v = []\n",
    "    count = 0\n",
    "    ll=0\n",
    "    alpha_0=params[0]\n",
    "    alpha_1 = params[1]\n",
    "    beta = params[2]\n",
    "    for i in range(160):\n",
    "        \n",
    "        \n",
    "        \n",
    "        #action\n",
    "        p_action_a = np.exp(-beta*v[0])/(np.exp(-beta*v[0])+np.exp(-beta*v[1]))\n",
    "        #ll+=np.log(p_action_a)\n",
    "        a = choices[i]\n",
    "        #print(a)\n",
    "        ll+=np.log((p_action_a**(1-a))*((1-p_action_a)**(a)))\n",
    "        \n",
    "        \n",
    "        \n",
    "        \n",
    "        \n",
    "        v[a] += ((1-outcomes[i])*alpha_0+outcomes[i]*alpha_1)*(outcomes[i]-v[a])\n",
    "        \n",
    "        prog_v.append(v.copy())\n",
    "        \n",
    "    return -ll"
   ]
  },
  {
   "cell_type": "code",
   "execution_count": null,
   "id": "2f78dc91",
   "metadata": {
    "ExecuteTime": {
     "end_time": "2022-03-23T01:57:26.600709Z",
     "start_time": "2022-03-23T01:57:17.789939Z"
    }
   },
   "outputs": [],
   "source": [
    "best_params_k = []\n",
    "for i in range(50):\n",
    "    res=optimize.minimize(log_lh_var,x0=[0.25,0.35,6],method='Nelder-Mead',args=(choices_oh.to_numpy()[i,:],outcomes.to_numpy()[i,:]))\n",
    "    best_params_k.append(res.x)\n",
    "best_params_k = np.array(best_params_k)"
   ]
  },
  {
   "cell_type": "code",
   "execution_count": null,
   "id": "1cdbf85f",
   "metadata": {
    "ExecuteTime": {
     "end_time": "2022-03-26T03:12:19.277935Z",
     "start_time": "2022-03-26T03:12:19.254245Z"
    }
   },
   "outputs": [],
   "source": [
    "print(\"Mean of alpha+ :\",np.mean(best_params_k[:,0]))\n",
    "print(\"Variance of alpha+ :\",np.var(best_params_k[:,0]))\n",
    "print(\"\\n\")\n",
    "print(\"Mean of alpha- :\",np.mean(best_params_k[:,1]))\n",
    "print(\"Variance of alpha- :\",np.var(best_params_k[:,1]))\n",
    "print(\"\\n\")\n",
    "print(\"Mean of beta :\",np.mean(best_params_k[:,2]))\n",
    "print(\"Variance of beta :\",np.var(best_params_k[:,2]))\n",
    "print(\"Median of beta :\",np.median(best_params_k[:,2]))"
   ]
  },
  {
   "cell_type": "code",
   "execution_count": null,
   "id": "2a325ecb",
   "metadata": {
    "ExecuteTime": {
     "end_time": "2022-03-26T03:13:51.490897Z",
     "start_time": "2022-03-26T03:13:51.475944Z"
    }
   },
   "outputs": [],
   "source": [
    "# Correlation between abs(alpha+ - alpha-) and beta\n",
    "np.corrcoef(np.abs(best_params_k[:,0]-best_params_k[:,1]),best_params_k[:,2])"
   ]
  },
  {
   "cell_type": "code",
   "execution_count": 457,
   "id": "c41bf377",
   "metadata": {
    "ExecuteTime": {
     "end_time": "2022-03-27T02:10:45.443301Z",
     "start_time": "2022-03-27T02:10:44.588453Z"
    }
   },
   "outputs": [
    {
     "data": {
      "image/png": "[encoded data removed]",
      "text/plain": [
       "<Figure size 864x720 with 2 Axes>"
      ]
     },
     "metadata": {},
     "output_type": "display_data"
    }
   ],
   "source": [
    "# plot average evolution\n",
    "fig, ax = plt.subplots(2,1, figsize = (12,10))\n",
    "ax[1].scatter(range(50),best_params_k[:,0], label= r\"$\\alpha^+$\",alpha=0.7)\n",
    "ax[1].scatter(range(50),best_params_k[:,1], label= r\"$\\alpha^-$\",alpha=1)\n",
    "ax[0].scatter(range(50),best_params_k[:,2], label= r\"$\\beta$\",alpha=0.7,c=\"g\")\n",
    "ax[1].legend(prop={'size': 20})\n",
    "ax[1].set_xlabel(\"Participant\",size=27)\n",
    "ax[0].set_ylabel(r\"$\\beta$\",size=27)\n",
    "ax[1].set_ylabel(r\"$\\alpha^+ / \\alpha^-$\",size=27)\n",
    "\n",
    "ax[0].tick_params(axis='x', labelsize=25)\n",
    "ax[0].tick_params(axis='y', labelsize=25)\n",
    "ax[1].tick_params(axis='x', labelsize=25)\n",
    "ax[1].tick_params(axis='y', labelsize=25)\n",
    "ax[0].axvline(x=24.5,color=\"red\",alpha=0.5,linestyle=\"--\")\n",
    "ax[1].axvline(x=24.5,color=\"red\",alpha=0.5,linestyle=\"--\")\n",
    "ax[0].xaxis.set_ticklabels([])\n",
    "ax[0].text(0,1.05,\"A\",transform=ax[0].transAxes,fontsize=28,weight='bold')\n",
    "ax[1].text(0,1.05,\"B\",transform=ax[1].transAxes,fontsize=28,weight='bold')\n",
    "plt.tight_layout()\n",
    "plt.show()\n",
    "fig.savefig('/Users/josehernandez/Documents/The University of Edinburgh/Academics/SEM2/CCN/Assignment 2/Plots/fig7.png',dpi=400)\n"
   ]
  },
  {
   "cell_type": "markdown",
   "id": "fb373259",
   "metadata": {},
   "source": [
    "### Task K - I"
   ]
  },
  {
   "cell_type": "code",
   "execution_count": null,
   "id": "eb643b27",
   "metadata": {
    "ExecuteTime": {
     "end_time": "2022-03-23T01:58:10.389240Z",
     "start_time": "2022-03-23T01:58:10.285428Z"
    }
   },
   "outputs": [],
   "source": [
    "log_lh_mod3 = []\n",
    "for i in range(choices_oh.to_numpy().shape[0]):\n",
    "    log_lh_mod3.append(log_lh_var([best_params_k[i,0],best_params_k[i,1],best_params_k[i,2]],choices_oh.to_numpy()[i,:],outcomes.to_numpy()[i,:]))\n",
    "\n",
    "log_lh_mod3 = np.array(log_lh_mod3)\n",
    "\n",
    "print(\"Average log-likelihood for model 1:\",np.round(np.mean(log_lh_mod1),4))\n",
    "print(\"Average log-likelihood for model 3:\",np.round(np.mean(log_lh_mod3),4))\n",
    "\n",
    "print(\"t-test p-value: \",np.round(scipy.stats.ttest_ind(log_lh_mod1,log_lh_mod3).pvalue,4))\n",
    "\n"
   ]
  },
  {
   "cell_type": "code",
   "execution_count": null,
   "id": "852be378",
   "metadata": {
    "ExecuteTime": {
     "end_time": "2022-03-23T01:58:12.351053Z",
     "start_time": "2022-03-23T01:58:12.344361Z"
    }
   },
   "outputs": [],
   "source": [
    "aic_mod1=np.sum(log_lh_mod1*2+2*2)\n",
    "aic_mod3=np.sum(log_lh_mod3*2+2*3)\n",
    "\n",
    "bic_mod1=np.sum(log_lh_mod1*2+2*np.log(160))\n",
    "bic_mod3=np.sum(log_lh_mod3*2+3*np.log(160))\n",
    "    \n",
    "print(\"AIC for model 1: \",np.round(aic_mod1,2))\n",
    "print(\"AIC for model 3: \",np.round(aic_mod3,2))\n",
    "print(\"BIC for model 1: \",np.round(bic_mod1,2))\n",
    "print(\"BIC for model 3: \",np.round(bic_mod3,2))"
   ]
  },
  {
   "cell_type": "markdown",
   "id": "a0f6545d",
   "metadata": {
    "ExecuteTime": {
     "end_time": "2022-03-13T21:29:58.972273Z",
     "start_time": "2022-03-13T21:29:58.968076Z"
    }
   },
   "source": [
    "### Task K - J"
   ]
  },
  {
   "cell_type": "code",
   "execution_count": null,
   "id": "eab24e23",
   "metadata": {
    "ExecuteTime": {
     "end_time": "2022-03-23T01:58:17.714969Z",
     "start_time": "2022-03-23T01:58:17.707233Z"
    }
   },
   "outputs": [],
   "source": [
    "def rl_gen_var_j(alpha_0, alpha_1, beta, init_v):\n",
    "    \"\"\"\n",
    "    RL for third model to simulate data\n",
    "    \"\"\"\n",
    "    v = np.ones(2)*init_v\n",
    "    out_list = []\n",
    "    action_list = []\n",
    "    for i in range(160):\n",
    "        \n",
    "        prob_a=0\n",
    "        if i < 40:\n",
    "            prob_a = 0.6\n",
    "        elif i < 80:\n",
    "            prob_a = 0.8\n",
    "        elif i < 120:\n",
    "            prob_a = 0.6\n",
    "        else:\n",
    "            prob_a = 0.65\n",
    "        \n",
    "        prob_b = 1-prob_a\n",
    "        \n",
    "        #action\n",
    "        p_action_a = np.exp(-beta*v[0])/(np.exp(-beta*v[0])+np.exp(-beta*v[1]))\n",
    "        \n",
    "        if random.uniform(0,1)<p_action_a:\n",
    "            a = 0\n",
    "        else:\n",
    "            a = 1\n",
    "        \n",
    "        \n",
    "        out = outc(a,prob_a,prob_b)\n",
    "        \n",
    "        v[a] += ((1-out)*alpha_0+out*alpha_1)*(out-v[a])\n",
    "        \n",
    "        out_list.append(out)\n",
    "        action_list.append(a)\n",
    "        \n",
    "    return out_list, action_list"
   ]
  },
  {
   "cell_type": "code",
   "execution_count": null,
   "id": "f9bad0f1",
   "metadata": {
    "ExecuteTime": {
     "end_time": "2022-03-23T01:58:21.671929Z",
     "start_time": "2022-03-23T01:58:21.378696Z"
    }
   },
   "outputs": [],
   "source": [
    "# simulate 3rd model\n",
    "\n",
    "best_params_k_mod = best_params_k[np.logical_and(np.logical_and(best_params_k[:,0]<1,best_params_k[:,1]<1),best_params_k[:,2]<10)]\n",
    "\n",
    "\n",
    "anx_mean = np.mean(best_params_k_mod[:25,:],axis=0)\n",
    "ctrl_mean = np.mean(best_params_k_mod[25:,:],axis=0)\n",
    "\n",
    "overall_median = np.median(best_params_k_mod,axis=0)\n",
    "\n",
    "#set mode to diff if mean are different from the first 25 participants from the last 25\n",
    "\n",
    "#experimental\n",
    "overall_median = best_params_k_mod[0,:]\n",
    "\n",
    "if mode == \"diff\":\n",
    "\n",
    "\n",
    "    anx=np.random.multivariate_normal(anx_mean,[[0.01,0,0],[0,0.01,0],[0,0,0.5]],size=N//2)\n",
    "    ctrl=np.random.multivariate_normal(ctrl_mean,[[0.01,0,0],[0,0.01,0],[0,0,0.5]],size=N//2)\n",
    "\n",
    "    params = np.vstack((anx,ctrl))\n",
    "else:\n",
    "\n",
    "\n",
    "    params=np.random.multivariate_normal(overall_median,[[0.01,0,0],[0,0.01,0],[0,0,1]],size=N)\n",
    "\n",
    "\n",
    "\n",
    "outcomes_synth = []\n",
    "actions_synth = []\n",
    "for param in params:\n",
    "    \n",
    "    outcome, actions = rl_gen_var_j(param[0],param[1],param[2],0.5)\n",
    "\n",
    "    outcomes_synth.append(outcome)\n",
    "    actions_synth.append(actions)\n",
    "outcomes_synth_k = np.array(outcomes_synth)\n",
    "actions_synth_k = np.array(actions_synth)\n"
   ]
  },
  {
   "cell_type": "code",
   "execution_count": null,
   "id": "4ea14e3f",
   "metadata": {
    "ExecuteTime": {
     "end_time": "2022-03-23T02:06:13.353298Z",
     "start_time": "2022-03-23T01:58:24.410752Z"
    }
   },
   "outputs": [],
   "source": [
    "# model fittings\n",
    "\n",
    "\n",
    "best_params_02 = []\n",
    "best_params_12 = []\n",
    "best_params_20 = []\n",
    "best_params_21 = []\n",
    "best_params_22 = []\n",
    "\n",
    "for i in range(N):\n",
    "    res=optimize.minimize(log_lh,x0=[0.3,8],method='Nelder-Mead',args=(actions_synth_k[i,:],outcomes_synth_k[i,:]))\n",
    "    best_params_02.append(res.x)\n",
    "    res=optimize.minimize(log_lh_leaky,x0=[0.4,5,0.5],method='Nelder-Mead',args=(actions_synth_k[i,:],outcomes_synth_k[i,:]))\n",
    "    best_params_12.append(res.x)\n",
    "    res=optimize.minimize(log_lh_var,x0=[0.25,0.35,6],method='Nelder-Mead',args=(actions_synth_g[i,:],outcomes_synth_g[i,:]))\n",
    "    best_params_20.append(res.x)\n",
    "    res=optimize.minimize(log_lh_var,x0=[0.25,0.35,6],method='Nelder-Mead',args=(actions_synth_j[i,:],outcomes_synth_j[i,:]))\n",
    "    best_params_21.append(res.x)\n",
    "    res=optimize.minimize(log_lh_var,x0=[0.25,0.35,6],method='Nelder-Mead',args=(actions_synth_k[i,:],outcomes_synth_k[i,:]))\n",
    "    best_params_22.append(res.x)\n",
    "best_params_02 = np.array(best_params_02)\n",
    "best_params_12 = np.array(best_params_12)\n",
    "best_params_20 = np.array(best_params_20)\n",
    "best_params_21 = np.array(best_params_21)\n",
    "best_params_22 = np.array(best_params_22)\n",
    "\n",
    "\n",
    "\n"
   ]
  },
  {
   "cell_type": "code",
   "execution_count": null,
   "id": "288d5745",
   "metadata": {
    "ExecuteTime": {
     "end_time": "2022-03-23T02:06:15.732777Z",
     "start_time": "2022-03-23T02:06:13.354151Z"
    }
   },
   "outputs": [],
   "source": [
    "#log_lh_mod1 = []\n",
    "\n",
    "\n",
    "\n",
    "log_lh_mod_02 = []\n",
    "log_lh_mod_12 = []\n",
    "log_lh_mod_20 = []\n",
    "log_lh_mod_21 = []\n",
    "log_lh_mod_22 = []\n",
    "for i in range(N):\n",
    "    log_lh_mod_02.append(log_lh([best_params_02[i,0],best_params_02[i,1]],actions_synth_k[i,:],outcomes_synth_k[i,:]))\n",
    "    log_lh_mod_12.append(log_lh_leaky([best_params_12[i,0],best_params_12[i,1],best_params_12[i,2]],actions_synth_k[i,:],outcomes_synth_k[i,:]))\n",
    "    log_lh_mod_20.append(log_lh_var([best_params_20[i,0],best_params_20[i,1],best_params_20[i,2]],actions_synth_g[i,:],outcomes_synth_g[i,:]))\n",
    "    log_lh_mod_21.append(log_lh_var([best_params_21[i,0],best_params_21[i,1],best_params_21[i,2]],actions_synth_j[i,:],outcomes_synth_j[i,:]))\n",
    "    log_lh_mod_22.append(log_lh_var([best_params_22[i,0],best_params_22[i,1],best_params_22[i,2]],actions_synth_k[i,:],outcomes_synth_k[i,:]))\n",
    "\n",
    "log_lh_mod_02 = np.array(log_lh_mod_02)\n",
    "log_lh_mod_12 = np.array(log_lh_mod_12)\n",
    "log_lh_mod_20 = np.array(log_lh_mod_20)\n",
    "log_lh_mod_21 = np.array(log_lh_mod_21)\n",
    "log_lh_mod_22 = np.array(log_lh_mod_22)\n",
    "\n",
    "\n",
    "\n"
   ]
  },
  {
   "cell_type": "code",
   "execution_count": null,
   "id": "602ff0a7",
   "metadata": {
    "ExecuteTime": {
     "end_time": "2022-03-23T02:06:15.737959Z",
     "start_time": "2022-03-23T02:06:15.733411Z"
    }
   },
   "outputs": [],
   "source": [
    "\n",
    "aic_mod02=log_lh_mod_02*2+2*2\n",
    "aic_mod12=log_lh_mod_12*2+2*3\n",
    "aic_mod20=log_lh_mod_20*2+2*3\n",
    "aic_mod21=log_lh_mod_21*2+2*3\n",
    "aic_mod22=log_lh_mod_22*2+2*3\n",
    "\n",
    "bic_mod02=log_lh_mod_02*2+2*np.log(160)\n",
    "bic_mod12=log_lh_mod_12*2+3*np.log(160)\n",
    "bic_mod20=log_lh_mod_20*2+3*np.log(160)\n",
    "bic_mod21=log_lh_mod_21*2+3*np.log(160)\n",
    "bic_mod22=log_lh_mod_22*2+3*np.log(160)\n",
    "\n",
    "    \n",
    "print(\"AIC for recovered model 1 data 3: \",np.round(np.sum(aic_mod02),2))\n",
    "print(\"AIC for recovered model 2 data 3: \",np.round(np.sum(aic_mod12),2))\n",
    "print(\"AIC for recovered model 3 data 1: \",np.round(np.sum(aic_mod20),2))\n",
    "print(\"AIC for recovered model 3 data 2: \",np.round(np.sum(aic_mod21),2))\n",
    "print(\"AIC for recovered model 3 data 3: \",np.round(np.sum(aic_mod22),2))\n",
    "print(\"\\n\")\n",
    "print(\"BIC for recovered model 1 data 3: \",np.round(np.sum(bic_mod02),2))\n",
    "print(\"BIC for recovered model 2 data 3: \",np.round(np.sum(bic_mod12),2))\n",
    "print(\"BIC for recovered model 3 data 1: \",np.round(np.sum(bic_mod20),2))\n",
    "print(\"BIC for recovered model 3 data 2: \",np.round(np.sum(bic_mod21),2))\n",
    "print(\"BIC for recovered model 3 data 3: \",np.round(np.sum(bic_mod22),2))\n",
    "\n"
   ]
  },
  {
   "cell_type": "code",
   "execution_count": null,
   "id": "d05551de",
   "metadata": {
    "ExecuteTime": {
     "end_time": "2022-03-23T02:19:42.703609Z",
     "start_time": "2022-03-23T02:19:42.690893Z"
    }
   },
   "outputs": [],
   "source": [
    "print(\"t-statistic for alpha+ test: \", np.round(scipy.stats.ttest_ind(best_params_k[:25,:],best_params_k[25:,:]).statistic[0],4))\n",
    "print(\"t-statistic for alpha- test: \", np.round(scipy.stats.ttest_ind(best_params_k[:25,:],best_params_k[25:,:]).statistic[1],4))\n",
    "print(\"t-statistic for beta test: \", np.round(scipy.stats.ttest_ind(best_params_k[:25,:],best_params_k[25:,:]).statistic[2],4))\n",
    "\n",
    "\n",
    "print(\"Degrees of freedom: \",48)\n",
    "print(\"p-value for alpha+ test: \", np.round(scipy.stats.ttest_ind(best_params_k[:25,:],best_params_k[25:,:]).pvalue[0],4))\n",
    "print(\"p-value for alpha- test: \", np.round(scipy.stats.ttest_ind(best_params_k[:25,:],best_params_k[25:,:]).pvalue[1],4))\n",
    "print(\"p-value for beta test: \", np.round(scipy.stats.ttest_ind(best_params_k[:25,:],best_params_k[25:,:]).pvalue[2],4))\n",
    "\n"
   ]
  },
  {
   "cell_type": "code",
   "execution_count": null,
   "id": "ddbe78bf",
   "metadata": {
    "ExecuteTime": {
     "end_time": "2022-03-26T12:03:46.792197Z",
     "start_time": "2022-03-26T12:03:46.782505Z"
    }
   },
   "outputs": [],
   "source": [
    "np.mean(best_params_k[25:,1])"
   ]
  },
  {
   "cell_type": "code",
   "execution_count": null,
   "id": "f57c68d0",
   "metadata": {
    "ExecuteTime": {
     "end_time": "2022-03-23T02:06:15.748717Z",
     "start_time": "2022-03-23T02:06:15.745028Z"
    }
   },
   "outputs": [],
   "source": [
    "# Preparing data for confusion matrix with AIC\n",
    "\n",
    "aic_data=np.ones((N*3,))\n",
    "aic_data[:N]=0\n",
    "aic_data[2*N:]=2\n",
    "\n",
    "\n",
    "\n",
    "aic_mod0=np.vstack((aic_mod00,aic_mod10,aic_mod20)).T\n",
    "aic_mod1=np.vstack((aic_mod01,aic_mod11,aic_mod21)).T\n",
    "aic_mod2=np.vstack((aic_mod02,aic_mod12,aic_mod22)).T\n",
    "\n",
    "aic_mod0_ind = np.argmin(aic_mod0,axis=1)\n",
    "aic_mod1_ind = np.argmin(aic_mod1,axis=1)\n",
    "aic_mod2_ind = np.argmin(aic_mod2,axis=1)\n",
    "\n",
    "aic_mod = np.hstack((aic_mod0_ind,aic_mod1_ind,aic_mod2_ind))\n"
   ]
  },
  {
   "cell_type": "code",
   "execution_count": null,
   "id": "2a1db12a",
   "metadata": {
    "ExecuteTime": {
     "end_time": "2022-03-23T11:23:44.731347Z",
     "start_time": "2022-03-23T11:23:44.726754Z"
    }
   },
   "outputs": [],
   "source": []
  },
  {
   "cell_type": "code",
   "execution_count": null,
   "id": "1b5392db",
   "metadata": {
    "ExecuteTime": {
     "end_time": "2022-03-23T02:06:15.755672Z",
     "start_time": "2022-03-23T02:06:15.749378Z"
    }
   },
   "outputs": [],
   "source": [
    "aic_cm=confusion_matrix(aic_data,aic_mod)"
   ]
  },
  {
   "cell_type": "code",
   "execution_count": null,
   "id": "68c9605b",
   "metadata": {
    "ExecuteTime": {
     "end_time": "2022-03-23T02:06:15.759945Z",
     "start_time": "2022-03-23T02:06:15.756349Z"
    }
   },
   "outputs": [],
   "source": [
    "# Preparing data for confusion matrix with BIC\n",
    "\n",
    "\n",
    "\n",
    "bic_data=np.ones((N*3,))\n",
    "bic_data[:N]=0\n",
    "bic_data[2*N:]=2\n",
    "\n",
    "\n",
    "bic_mod0=np.vstack((bic_mod00,bic_mod10,bic_mod20)).T\n",
    "bic_mod1=np.vstack((bic_mod01,bic_mod11,bic_mod21)).T\n",
    "bic_mod2=np.vstack((bic_mod02,bic_mod12,bic_mod22)).T\n",
    "\n",
    "bic_mod0_ind = np.argmin(bic_mod0,axis=1)\n",
    "bic_mod1_ind = np.argmin(bic_mod1,axis=1)\n",
    "bic_mod2_ind = np.argmin(bic_mod2,axis=1)\n",
    "\n",
    "bic_mod = np.hstack((bic_mod0_ind,bic_mod1_ind,bic_mod2_ind))"
   ]
  },
  {
   "cell_type": "code",
   "execution_count": null,
   "id": "337d58a0",
   "metadata": {
    "ExecuteTime": {
     "end_time": "2022-03-23T02:06:15.764887Z",
     "start_time": "2022-03-23T02:06:15.760933Z"
    }
   },
   "outputs": [],
   "source": [
    "bic_cm=confusion_matrix(bic_data,bic_mod)"
   ]
  },
  {
   "cell_type": "code",
   "execution_count": null,
   "id": "d568f8ae",
   "metadata": {
    "ExecuteTime": {
     "end_time": "2022-03-23T12:28:49.937178Z",
     "start_time": "2022-03-23T12:28:49.748502Z"
    }
   },
   "outputs": [],
   "source": [
    "# Plot confusion matrix\n",
    "fig, ax = plt.subplots(1,2, figsize = (14,6))\n",
    "\n",
    "sns.heatmap(aic_cm,cmap=\"Blues\",annot=True,xticklabels=[\"Model 1\",\"Model 2\",\"Model 3\"],yticklabels=[\"  Model 1\",\"  Model 2\",\"  Model 3\"],ax=ax[0],square=True,fmt=\"g\",annot_kws={\"fontsize\":18})\n",
    "sns.heatmap(bic_cm,cmap=\"Blues\",annot=True,xticklabels=[\"Model 1\",\"Model 2\",\"Model 3\"],yticklabels=[\"   Model 1\",\"   Model 2\",\"   Model 3\"],ax=ax[1],square=True,fmt=\"g\",annot_kws={\"fontsize\":18})\n",
    "\n",
    "ax[0].tick_params(axis='x', labelsize=18)\n",
    "\n",
    "\n",
    "ax[0].text(0,1.05,\"A\",transform=ax[0].transAxes,fontsize=28,weight='bold')\n",
    "ax[1].text(0,1.05,\"B\",transform=ax[1].transAxes,fontsize=28,weight='bold')\n",
    "plt.tight_layout()\n",
    "plt.show()\n"
   ]
  },
  {
   "cell_type": "code",
   "execution_count": null,
   "id": "fe13e09f",
   "metadata": {
    "ExecuteTime": {
     "end_time": "2022-03-26T12:42:49.149501Z",
     "start_time": "2022-03-26T12:42:48.403854Z"
    }
   },
   "outputs": [],
   "source": [
    "#Plot normalized confusion matrix\n",
    "\n",
    "fig, ax = plt.subplots(1,2, figsize = (14,6))\n",
    "\n",
    "sns.heatmap(aic_cm/500,cmap=\"Blues\",annot=True,xticklabels=[\"1\",\"2\",\"3\"],yticklabels=[\"  1\",\"  2\",\"  3\"],ax=ax[0],square=True,fmt=\"g\",annot_kws={\"fontsize\":25})\n",
    "sns.heatmap(bic_cm/500,cmap=\"Blues\",annot=True,xticklabels=[\"1\",\"2\",\"3\"],yticklabels=[\"   1\",\"   2\",\"   3\"],ax=ax[1],square=True,fmt=\"g\",annot_kws={\"fontsize\":25})\n",
    "\n",
    "ax[0].tick_params(axis='x', labelsize=25)\n",
    "ax[0].tick_params(axis='y', labelsize=25)\n",
    "ax[1].tick_params(axis='x', labelsize=25)\n",
    "ax[1].tick_params(axis='y', labelsize=25)\n",
    "\n",
    "ax[0].set_xlabel(\"Fit model\",size=28)\n",
    "ax[0].set_ylabel(\"Simulated model\",size=28)\n",
    "\n",
    "ax[1].set_xlabel(\"Fit model\",size=28)\n",
    "\n",
    "\n",
    "ax[0].text(0,1.05,\"A\",transform=ax[0].transAxes,fontsize=28,weight='bold')\n",
    "ax[1].text(0,1.05,\"B\",transform=ax[1].transAxes,fontsize=28,weight='bold')\n",
    "plt.tight_layout()\n",
    "plt.show()\n",
    "fig.savefig('/Users/josehernandez/Documents/The University of Edinburgh/Academics/SEM2/CCN/Assignment 2/Plots/fig8.png',dpi=400,bbox_inches='tight')\n",
    "\n"
   ]
  },
  {
   "cell_type": "code",
   "execution_count": null,
   "id": "bfd3e3fa",
   "metadata": {},
   "outputs": [],
   "source": []
  }
 ],
 "metadata": {
  "kernelspec": {
   "display_name": "Python 3 (ipykernel)",
   "language": "python",
   "name": "python3"
  },
  "language_info": {
   "codemirror_mode": {
    "name": "ipython",
    "version": 3
   },
   "file_extension": ".py",
   "mimetype": "text/x-python",
   "name": "python",
   "nbconvert_exporter": "python",
   "pygments_lexer": "ipython3",
   "version": "3.9.6"
  }
 },
 "nbformat": 4,
 "nbformat_minor": 5
}
